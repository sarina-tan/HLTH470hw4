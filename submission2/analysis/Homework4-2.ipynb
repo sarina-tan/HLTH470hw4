{
 "cells": [
  {
   "cell_type": "markdown",
   "metadata": {},
   "source": [
    "## ECON470 Homework 4-1\n",
    "Author: Sarina Tan"
   ]
  },
  {
   "cell_type": "code",
   "execution_count": 2,
   "metadata": {},
   "outputs": [],
   "source": [
    "# Import libraries\n",
    "import pandas as pd\n",
    "import numpy as np\n",
    "import os\n",
    "from sklearn.linear_model import LogisticRegression\n",
    "from sklearn.utils import resample\n",
    "from scipy.spatial.distance import mahalanobis\n",
    "from sklearn.neighbors import NearestNeighbors\n",
    "from scipy.spatial.distance import cdist\n",
    "import matplotlib.pyplot as plt\n",
    "import statsmodels.api as sm\n",
    "import matplotlib.ticker as ticker\n",
    "import matplotlib\n",
    "import seaborn as sns\n",
    "from tabulate import tabulate\n",
    "from statsmodels.formula.api import ols\n",
    "from linearmodels.iv import IV2SLS\n",
    "from causalinference import CausalModel\n",
    "from sklearn.neighbors import NearestNeighbors\n",
    "from IPython.display import Markdown, display\n",
    "import warnings\n",
    "warnings.simplefilter('ignore')"
   ]
  },
  {
   "cell_type": "markdown",
   "metadata": {},
   "source": [
    "1. Remove all SNPs, 800-series plans, and prescription drug only plans (i.e., plans that do not offer Part C benefits). Provide a box and whisker plot showing the distribution of plan counts by county over time. Do you think that the number of plans is sufficient, too few, or too many?"
   ]
  },
  {
   "cell_type": "code",
   "execution_count": 3,
   "metadata": {},
   "outputs": [
    {
     "data": {
      "text/plain": [
       "((2391305, 18),\n",
       "       contractid  planid   org_type  plan_type partd snp eghp  \\\n",
       " 32032      H0046     1.0  Local CCP  Local PPO    No  No   No   \n",
       " 32033      H0046     1.0  Local CCP  Local PPO    No  No   No   \n",
       " 32034      H0046     1.0  Local CCP  Local PPO    No  No   No   \n",
       " 32035      H0046     1.0  Local CCP  Local PPO    No  No   No   \n",
       " 32036      H0046     1.0  Local CCP  Local PPO    No  No   No   \n",
       " \n",
       "                                                org_name  \\\n",
       " 32032  CARE IMPROVEMENT PLUS OF TEXAS INSURANCE COMPANY   \n",
       " 32033  CARE IMPROVEMENT PLUS OF TEXAS INSURANCE COMPANY   \n",
       " 32034  CARE IMPROVEMENT PLUS OF TEXAS INSURANCE COMPANY   \n",
       " 32035  CARE IMPROVEMENT PLUS OF TEXAS INSURANCE COMPANY   \n",
       " 32036  CARE IMPROVEMENT PLUS OF TEXAS INSURANCE COMPANY   \n",
       " \n",
       "           org_marketing_name                                       plan_name  \\\n",
       " 32032  Care Improvement Plus  Care Improvement Plus Medicare Advantage (PPO)   \n",
       " 32033  Care Improvement Plus  Care Improvement Plus Medicare Advantage (PPO)   \n",
       " 32034  Care Improvement Plus  Care Improvement Plus Medicare Advantage (PPO)   \n",
       " 32035  Care Improvement Plus  Care Improvement Plus Medicare Advantage (PPO)   \n",
       " 32036  Care Improvement Plus  Care Improvement Plus Medicare Advantage (PPO)   \n",
       " \n",
       "                  parent_org contract_date      ssa     fips state  \\\n",
       " 32032  XLHealth Corporation           NaN  45610.0  48201.0    TX   \n",
       " 32033  XLHealth Corporation           NaN  40010.0  72001.0    PR   \n",
       " 32034  XLHealth Corporation           NaN  40020.0  72003.0    PR   \n",
       " 32035  XLHealth Corporation           NaN  40030.0  72005.0    PR   \n",
       " 32036  XLHealth Corporation           NaN  40040.0  72007.0    PR   \n",
       " \n",
       "              county  avg_enrollment  year  \n",
       " 32032        Harris             NaN  2010  \n",
       " 32033      Adjuntas             NaN  2010  \n",
       " 32034        Aguada             NaN  2010  \n",
       " 32035     Aguadilla             NaN  2010  \n",
       " 32036  Aguas Buenas             NaN  2010  )"
      ]
     },
     "execution_count": 3,
     "metadata": {},
     "output_type": "execute_result"
    }
   ],
   "source": [
    "# Load data\n",
    "df = pd.read_csv(\"/Users/sarinatan/Desktop/HLTH470hw4/data/output/full_ma_data.csv\")\n",
    "# create separate copy for question\n",
    "df_q1 = df.copy()\n",
    "\n",
    "# Convert planid to numeric if not already, to check for 800-series\n",
    "df_q1['planid'] = pd.to_numeric(df_q1['planid'], errors='coerce')\n",
    "\n",
    "# Filter out SNPs, 800-series plans, and prescription drug only plans (PDPs)\n",
    "filtered_df = df_q1[\n",
    "    (df_q1['snp'] != 'Yes') &\n",
    "    (df_q1['planid'] < 800) &\n",
    "    (df_q1['plan_type'] != 'PDP')\n",
    "]\n",
    "\n",
    "# Display the shape and a preview after filtering\n",
    "filtered_df.shape, filtered_df.head()\n"
   ]
  },
  {
   "cell_type": "code",
   "execution_count": null,
   "metadata": {},
   "outputs": [],
   "source": []
  }
 ],
 "metadata": {
  "kernelspec": {
   "display_name": "base",
   "language": "python",
   "name": "python3"
  },
  "language_info": {
   "codemirror_mode": {
    "name": "ipython",
    "version": 3
   },
   "file_extension": ".py",
   "mimetype": "text/x-python",
   "name": "python",
   "nbconvert_exporter": "python",
   "pygments_lexer": "ipython3",
   "version": "3.11.11"
  }
 },
 "nbformat": 4,
 "nbformat_minor": 2
}
